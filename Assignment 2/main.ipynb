{
 "cells": [
  {
   "cell_type": "code",
   "execution_count": 81,
   "metadata": {},
   "outputs": [
    {
     "name": "stdout",
     "output_type": "stream",
     "text": [
      "age           0\n",
      "sex           0\n",
      "dataset       0\n",
      "cp            0\n",
      "trestbps     59\n",
      "chol         30\n",
      "fbs          90\n",
      "restecg       2\n",
      "thalch       55\n",
      "exang        55\n",
      "oldpeak      62\n",
      "slope       309\n",
      "ca          611\n",
      "thal        486\n",
      "num           0\n",
      "dtype: int64\n"
     ]
    }
   ],
   "source": [
    "import pandas as pd\n",
    "heart = pd.read_csv('heart_disease_uci.csv')\n",
    "# heart = heart.dropna()\n",
    "# heart.info()\n",
    "# Check how many missing values exist in each column\n",
    "print(heart.isnull().sum())\n"
   ]
  },
  {
   "cell_type": "code",
   "execution_count": 91,
   "metadata": {},
   "outputs": [
    {
     "name": "stdout",
     "output_type": "stream",
     "text": [
      "Mean Squared Error: 11500.929639448974\n",
      "R^2 Score: 0.02682920332695149\n"
     ]
    }
   ],
   "source": [
    "import matplotlib.pyplot as plt\n",
    "import seaborn as sns\n",
    "import numpy as np\n",
    "from sklearn.linear_model import ElasticNet\n",
    "from sklearn.model_selection import train_test_split\n",
    "from sklearn.preprocessing import StandardScaler\n",
    "from sklearn.metrics import mean_squared_error, r2_score\n",
    "from sklearn.impute import SimpleImputer\n",
    "\n",
    "# drop missing values in features\n",
    "heart_clean = heart.dropna(subset=['chol'])\n",
    "\n",
    "X = heart_clean[['age', 'trestbps','thalch', 'oldpeak', 'ca']]\n",
    "y = heart_clean['chol']\n",
    "\n",
    "# replace missing value in tarhet and fit into X_train and X_test\n",
    "imp = SimpleImputer(strategy='mean')\n",
    "X_imputed = imp.fit_transform(X)\n",
    "\n",
    "\n",
    "# scale the features as we are using ElasticNet\n",
    "scaler = StandardScaler()\n",
    "X_scaled = scaler.fit_transform(X_imputed)\n",
    "\n",
    "# split the data into training and testing sets\n",
    "X_train, X_test, y_train, y_test = train_test_split(\n",
    "    X_scaled, y, test_size=0.2, random_state=42\n",
    ")\n",
    "\n",
    "#ElasticNet model\n",
    "chol_reg = ElasticNet(alpha=1.0, l1_ratio=0.5, random_state=42)\n",
    "\n",
    "# Train the model\n",
    "chol_reg.fit(X_train, y_train)\n",
    "\n",
    "# predictions on the test set\n",
    "y_pred = chol_reg.predict(X_test)\n",
    "\n",
    "mse = mean_squared_error(y_test, y_pred)\n",
    "r2 = r2_score(y_test, y_pred)\n",
    "\n",
    "print(\"Mean Squared Error:\", mse)\n",
    "print(\"R^2 Score:\", r2)\n"
   ]
  },
  {
   "cell_type": "code",
   "execution_count": null,
   "metadata": {},
   "outputs": [],
   "source": [
    "#2.Classification Models\n",
    "import pandas as pd\n",
    "import numpy as np\n",
    "from sklearn.impute import KNNImputer\n",
    "from sklearn.model_selection import train_test_split\n",
    "from sklearn.preprocessing import StandardScaler\n",
    "from sklearn.linear_model import LogisticRegression\n",
    "from sklearn.metrics import accuracy_score, f1_score, roc_auc_score, average_precision_score\n",
    "from sklearn.metrics import roc_curve, precision_recall_curve\n",
    "import matplotlib.pyplot as plt\n",
    "# fill missing values\n",
    "for col in heart.columns:#check if there is missing value in each column\n",
    "    if heart[col].isnull().sum() > 0 and heart[col].dtype in ['int64', 'float64']: #select columns that has integer or float data\n",
    "        heart[col] = heart[col].fillna(heart[col].mean())\n",
    "print(heart.isnull().sum())\n"
   ]
  },
  {
   "cell_type": "code",
   "execution_count": 84,
   "metadata": {},
   "outputs": [],
   "source": [
    "#split training data\n",
    "\n",
    "heart[\"num\"] = (heart[\"num\"] > 0).astype(int)\n",
    "X = heart[[\"age\", \"trestbps\", \"chol\", \"thalch\",\"oldpeak\", 'ca',]]\n",
    "y = heart[\"num\"]\n",
    "\n",
    "X_train, X_test, y_train, y_test = train_test_split(X, y, test_size=0.2, random_state=42)\n",
    "scaler = StandardScaler()\n",
    "X_train = scaler.fit_transform(X_train)\n",
    "X_test = scaler.transform(X_test)"
   ]
  },
  {
   "cell_type": "code",
   "execution_count": 64,
   "metadata": {},
   "outputs": [
    {
     "name": "stdout",
     "output_type": "stream",
     "text": [
      "accuracy:  0.75\n",
      "f1:  0.7766990291262136\n",
      "ROC:  0.8174923547400612\n",
      "PRC:  0.8598047034836024\n"
     ]
    }
   ],
   "source": [
    "heart_log = LogisticRegression(penalty = 'elasticnet', solver = \"saga\", l1_ratio = 0.5)\n",
    "heart_log.fit(X_train, y_train)\n",
    "y_pred = heart_log.predict(X_test)\n",
    "y_prob = heart_log.predict_proba(X_test)[:, 1]\n",
    "\n",
    "acc = accuracy_score(y_test, y_pred)\n",
    "f1 = f1_score(y_test, y_pred)\n",
    "roc = roc_auc_score(y_test, y_prob)\n",
    "prc = average_precision_score(y_test, y_prob)\n",
    "\n",
    "print(\"accuracy: \", acc)\n",
    "print(\"f1: \",f1)\n",
    "print(\"ROC: \", roc)\n",
    "print(\"PRC: \",prc)"
   ]
  },
  {
   "cell_type": "code",
   "execution_count": 65,
   "metadata": {},
   "outputs": [
    {
     "name": "stdout",
     "output_type": "stream",
     "text": [
      "accuracy:  0.75\n",
      "f1:  0.7766990291262136\n",
      "ROC:  0.8168807339449541\n",
      "PRC:  0.8593180470323096\n"
     ]
    }
   ],
   "source": [
    "heart_log = LogisticRegression(penalty = 'l1', solver = 'saga')\n",
    "heart_log.fit(X_train, y_train)\n",
    "y_pred = heart_log.predict(X_test)\n",
    "y_prob = heart_log.predict_proba(X_test)[:, 1]\n",
    "\n",
    "acc = accuracy_score(y_test, y_pred)\n",
    "f1 = f1_score(y_test, y_pred)\n",
    "roc = roc_auc_score(y_test, y_prob)\n",
    "prc = average_precision_score(y_test, y_prob)\n",
    "\n",
    "print(\"accuracy: \", acc)\n",
    "print(\"f1: \",f1)\n",
    "print(\"ROC: \", roc)\n",
    "print(\"PRC: \",prc)"
   ]
  },
  {
   "cell_type": "code",
   "execution_count": 66,
   "metadata": {},
   "outputs": [
    {
     "name": "stdout",
     "output_type": "stream",
     "text": [
      "accuracy:  0.75\n",
      "f1:  0.7766990291262136\n",
      "ROC:  0.817737003058104\n",
      "PRC:  0.8603627838421809\n"
     ]
    }
   ],
   "source": [
    "heart_log = LogisticRegression(penalty = 'l2', solver = 'saga')\n",
    "heart_log.fit(X_train, y_train)\n",
    "y_pred = heart_log.predict(X_test)\n",
    "y_prob = heart_log.predict_proba(X_test)[:, 1]\n",
    "\n",
    "acc = accuracy_score(y_test, y_pred)\n",
    "f1 = f1_score(y_test, y_pred)\n",
    "roc = roc_auc_score(y_test, y_prob)\n",
    "prc = average_precision_score(y_test, y_prob)\n",
    "\n",
    "print(\"accuracy: \", acc)\n",
    "print(\"f1: \",f1)\n",
    "print(\"ROC: \", roc)\n",
    "print(\"PRC: \",prc)"
   ]
  },
  {
   "cell_type": "code",
   "execution_count": 67,
   "metadata": {},
   "outputs": [
    {
     "name": "stdout",
     "output_type": "stream",
     "text": [
      "accuracy:  0.75\n",
      "f1:  0.7766990291262136\n",
      "ROC:  0.8168807339449541\n",
      "PRC:  0.8593180470323096\n"
     ]
    }
   ],
   "source": [
    "heart_log = LogisticRegression(penalty = 'l1', solver = 'liblinear')\n",
    "heart_log.fit(X_train, y_train)\n",
    "y_pred = heart_log.predict(X_test)\n",
    "y_prob = heart_log.predict_proba(X_test)[:, 1]\n",
    "\n",
    "acc = accuracy_score(y_test, y_pred)\n",
    "f1 = f1_score(y_test, y_pred)\n",
    "roc = roc_auc_score(y_test, y_prob)\n",
    "prc = average_precision_score(y_test, y_prob)\n",
    "\n",
    "print(\"accuracy: \", acc)\n",
    "print(\"f1: \",f1)\n",
    "print(\"ROC: \", roc)\n",
    "print(\"PRC: \",prc)"
   ]
  },
  {
   "cell_type": "code",
   "execution_count": 85,
   "metadata": {},
   "outputs": [
    {
     "name": "stdout",
     "output_type": "stream",
     "text": [
      "accuracy:  0.75\n",
      "f1:  0.7766990291262136\n",
      "ROC:  0.817737003058104\n",
      "PRC:  0.8603627838421809\n"
     ]
    }
   ],
   "source": [
    "heart_log = LogisticRegression(penalty = 'l2', solver = 'liblinear')\n",
    "heart_log.fit(X_train, y_train)\n",
    "y_pred = heart_log.predict(X_test)\n",
    "y_prob = heart_log.predict_proba(X_test)[:, 1]\n",
    "\n",
    "acc = accuracy_score(y_test, y_pred)\n",
    "f1 = f1_score(y_test, y_pred)\n",
    "roc = roc_auc_score(y_test, y_prob)\n",
    "prc = average_precision_score(y_test, y_prob)\n",
    "\n",
    "print(\"accuracy: \", acc)\n",
    "print(\"f1: \",f1)\n",
    "print(\"ROC: \", roc)\n",
    "print(\"PRC: \",prc)\n"
   ]
  },
  {
   "cell_type": "code",
   "execution_count": null,
   "metadata": {},
   "outputs": [
    {
     "data": {
      "image/png": "[encoded data removed]",
      "text/plain": [
       "<Figure size 640x480 with 1 Axes>"
      ]
     },
     "metadata": {},
     "output_type": "display_data"
    },
    {
     "data": {
      "image/png": "[encoded data removed]",
      "text/plain": [
       "<Figure size 640x480 with 1 Axes>"
      ]
     },
     "metadata": {},
     "output_type": "display_data"
    }
   ],
   "source": [
    "\n",
    "#plot auroc graph\n",
    "fpr, tpr, _ = roc_curve(y_test, y_prob)\n",
    "plt.figure()\n",
    "plt.plot(fpr, tpr, color='orange',label=f'ROC ({roc:.2f})')\n",
    "plt.xlabel('False Positive Rate')\n",
    "plt.ylabel('True Positive Rate')\n",
    "plt.title('Area Under Receiver Operating Characteristic')\n",
    "plt.legend()\n",
    "plt.show()\n",
    "\n",
    "# plot auprc graph\n",
    "precision, recall, _ = precision_recall_curve(y_test, y_prob)\n",
    "plt.figure()\n",
    "plt.plot(recall, precision, label=f'PRC (Area= {prc:.2f})')\n",
    "plt.xlabel('Recall')\n",
    "plt.ylabel('Precision')\n",
    "plt.title('Area Under Precision-Recall Curve')\n",
    "plt.legend()\n",
    "plt.show()"
   ]
  },
  {
   "cell_type": "code",
   "execution_count": 73,
   "metadata": {},
   "outputs": [
    {
     "name": "stdout",
     "output_type": "stream",
     "text": [
      "accuracy:  0.7391304347826086\n",
      "f1:  0.7623762376237624\n",
      "ROC:  0.7465443425076452\n",
      "PRC:  0.7588000909281968\n"
     ]
    }
   ],
   "source": [
    "from sklearn.neighbors import KNeighborsClassifier\n",
    "heart_knn = KNeighborsClassifier(n_neighbors=1)\n",
    "heart_knn.fit(X_train, y_train)\n",
    "y_pred = heart_knn.predict(X_test)\n",
    "y_prob = heart_knn.predict_proba(X_test)[:, 1]\n",
    "\n",
    "acc = accuracy_score(y_test, y_pred)\n",
    "f1 = f1_score(y_test, y_pred)\n",
    "roc = roc_auc_score(y_test, y_prob)\n",
    "prc = average_precision_score(y_test, y_prob)\n",
    "\n",
    "print(\"accuracy: \", acc)\n",
    "print(\"f1: \",f1)\n",
    "print(\"ROC: \", roc)\n",
    "print(\"PRC: \",prc)\n",
    "\n"
   ]
  },
  {
   "cell_type": "code",
   "execution_count": 79,
   "metadata": {},
   "outputs": [
    {
     "name": "stdout",
     "output_type": "stream",
     "text": [
      "accuracy:  0.782608695652174\n",
      "f1:  0.8076923076923077\n",
      "ROC:  0.8141284403669724\n",
      "PRC:  0.8339860211439145\n"
     ]
    }
   ],
   "source": [
    "heart_knn = KNeighborsClassifier(n_neighbors=5)\n",
    "heart_knn.fit(X_train, y_train)\n",
    "\n",
    "y_pred = heart_knn.predict(X_test)\n",
    "y_prob = heart_knn.predict_proba(X_test)[:, 1]\n",
    "\n",
    "acc = accuracy_score(y_test, y_pred)\n",
    "f1 = f1_score(y_test, y_pred)\n",
    "roc = roc_auc_score(y_test, y_prob)\n",
    "prc = average_precision_score(y_test, y_prob)\n",
    "\n",
    "print(\"accuracy: \", acc)\n",
    "print(\"f1: \",f1)\n",
    "print(\"ROC: \", roc)\n",
    "print(\"PRC: \",prc)\n",
    "\n"
   ]
  },
  {
   "cell_type": "code",
   "execution_count": 78,
   "metadata": {},
   "outputs": [
    {
     "name": "stdout",
     "output_type": "stream",
     "text": [
      "accuracy:  0.7880434782608695\n",
      "f1:  0.8115942028985508\n",
      "ROC:  0.8087461773700306\n",
      "PRC:  0.8384448824914279\n"
     ]
    }
   ],
   "source": [
    "heart_knn = KNeighborsClassifier(n_neighbors=10)\n",
    "heart_knn.fit(X_train, y_train)\n",
    "y_pred = heart_knn.predict(X_test)\n",
    "y_prob = heart_knn.predict_proba(X_test)[:, 1]\n",
    "\n",
    "acc = accuracy_score(y_test, y_pred)\n",
    "f1 = f1_score(y_test, y_pred)\n",
    "roc = roc_auc_score(y_test, y_prob)\n",
    "prc = average_precision_score(y_test, y_prob)\n",
    "\n",
    "print(\"accuracy: \", acc)\n",
    "print(\"f1: \",f1)\n",
    "print(\"ROC: \", roc)\n",
    "print(\"PRC: \",prc)"
   ]
  },
  {
   "cell_type": "code",
   "execution_count": 77,
   "metadata": {},
   "outputs": [
    {
     "name": "stdout",
     "output_type": "stream",
     "text": [
      "accuracy:  0.8097826086956522\n",
      "f1:  0.8325358851674641\n",
      "ROC:  0.8496636085626911\n",
      "PRC:  0.8616110704125548\n"
     ]
    }
   ],
   "source": [
    "heart_knn = KNeighborsClassifier(n_neighbors=20)\n",
    "heart_knn.fit(X_train, y_train)\n",
    "y_pred = heart_knn.predict(X_test)\n",
    "y_prob = heart_knn.predict_proba(X_test)[:, 1]\n",
    "\n",
    "acc = accuracy_score(y_test, y_pred)\n",
    "f1 = f1_score(y_test, y_pred)\n",
    "roc = roc_auc_score(y_test, y_prob)\n",
    "prc = average_precision_score(y_test, y_prob)\n",
    "\n",
    "print(\"accuracy: \", acc)\n",
    "print(\"f1: \",f1)\n",
    "print(\"ROC: \", roc)\n",
    "print(\"PRC: \",prc)"
   ]
  }
 ],
 "metadata": {
  "kernelspec": {
   "display_name": "default",
   "language": "python",
   "name": "python3"
  },
  "language_info": {
   "codemirror_mode": {
    "name": "ipython",
    "version": 3
   },
   "file_extension": ".py",
   "mimetype": "text/x-python",
   "name": "python",
   "nbconvert_exporter": "python",
   "pygments_lexer": "ipython3",
   "version": "3.9.21"
  }
 },
 "nbformat": 4,
 "nbformat_minor": 2
}
